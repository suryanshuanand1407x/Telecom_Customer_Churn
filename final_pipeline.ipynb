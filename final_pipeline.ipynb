{
 "cells": [
  {
   "cell_type": "code",
   "execution_count": 4,
   "metadata": {},
   "outputs": [
    {
     "name": "stdout",
     "output_type": "stream",
     "text": [
      "Optimized Logistic Regression Model Loaded.\n",
      "Predictions on New Data:\n",
      "   SeniorCitizen  tenure  MonthlyCharges  Churn Prediction  Churn Probability\n",
      "0              0      12           29.85                 0           0.176033\n",
      "1              0      24           56.95                 0           0.208749\n",
      "2              0      48          120.50                 0           0.351341\n",
      "Predictions saved to ../data/results/predictions.csv\n"
     ]
    }
   ],
   "source": [
    "# Import necessary libraries\n",
    "import pandas as pd\n",
    "import joblib\n",
    "\n",
    "# Load the Optimized Model\n",
    "model_path = '../models/logistic_regression_best_model.pkl'\n",
    "model = joblib.load(model_path)\n",
    "print(\"Optimized Logistic Regression Model Loaded.\")\n",
    "\n",
    "# Load Sample New Data\n",
    "new_data = {\n",
    "    'tenure': [12, 24, 48],\n",
    "    'MonthlyCharges': [29.85, 56.95, 120.50],\n",
    "    'TotalCharges': [348.75, 1395.85, 5745.50],\n",
    "    'gender_Male': [1, 0, 1],\n",
    "    'Partner_Yes': [0, 1, 0],\n",
    "    'Dependents_Yes': [0, 1, 0],\n",
    "    'PhoneService_Yes': [1, 1, 1],\n",
    "    # Add other required dummy features based on your processed dataset\n",
    "}\n",
    "new_data_df = pd.DataFrame(new_data)\n",
    "\n",
    "# Ensure Features Match Training Set\n",
    "try:\n",
    "    # Load trained feature names\n",
    "    trained_features = joblib.load('../data/processed/trained_features.pkl')\n",
    "\n",
    "    # Add any missing columns with default values (0)\n",
    "    for col in trained_features:\n",
    "        if col not in new_data_df.columns:\n",
    "            new_data_df[col] = 0\n",
    "\n",
    "    # Drop extra columns not in trained features\n",
    "    new_data_df = new_data_df[trained_features]\n",
    "except FileNotFoundError:\n",
    "    print(\"Error: trained_features.pkl file not found. Ensure preprocessing step saves this file.\")\n",
    "    raise\n",
    "\n",
    "# Make Predictions\n",
    "predictions = model.predict(new_data_df)\n",
    "probabilities = model.predict_proba(new_data_df)[:, 1]\n",
    "\n",
    "# Display Predictions\n",
    "new_data_df['Churn Prediction'] = predictions\n",
    "new_data_df['Churn Probability'] = probabilities\n",
    "print(\"Predictions on New Data:\")\n",
    "print(new_data_df)\n",
    "\n",
    "# Save Predictions\n",
    "new_data_df.to_csv('../data/results/predictions.csv', index=False)\n",
    "print(\"Predictions saved to ../data/results/predictions.csv\")"
   ]
  }
 ],
 "metadata": {
  "kernelspec": {
   "display_name": "Python 3",
   "language": "python",
   "name": "python3"
  },
  "language_info": {
   "codemirror_mode": {
    "name": "ipython",
    "version": 3
   },
   "file_extension": ".py",
   "mimetype": "text/x-python",
   "name": "python",
   "nbconvert_exporter": "python",
   "pygments_lexer": "ipython3",
   "version": "3.13.0"
  }
 },
 "nbformat": 4,
 "nbformat_minor": 2
}
